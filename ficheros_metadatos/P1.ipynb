{
 "cells": [
  {
   "cell_type": "markdown",
   "metadata": {},
   "source": [
    "# Asigantura: ETL\n",
    "\n",
    "# Alumno: Adrián González Retamosa\n",
    "\n",
    "# Fecha: 27/11/2020"
   ]
  },
  {
   "cell_type": "markdown",
   "metadata": {},
   "source": [
    "## Formato JSON."
   ]
  },
  {
   "cell_type": "markdown",
   "metadata": {},
   "source": [
    "JSON es un formato de texto sencillo para el intercambio de datos. Se trata de un subconjunto de la notación literal de objetos de JavaScript."
   ]
  },
  {
   "cell_type": "markdown",
   "metadata": {},
   "source": [
    "Primero tenemos que cargar la librería __json__. "
   ]
  },
  {
   "cell_type": "code",
   "execution_count": 47,
   "metadata": {},
   "outputs": [],
   "source": [
    "import json"
   ]
  },
  {
   "cell_type": "markdown",
   "metadata": {},
   "source": [
    "No tengo ningún archivo .json, pero buscando en internet la forma que tiene, crearé unos datos de tipo .json y lo guardaré como tal para después abrirlo con la función de la librería __json__. \n",
    "\n",
    "Este dataset será: _prueba.json_. "
   ]
  },
  {
   "cell_type": "code",
   "execution_count": 48,
   "metadata": {},
   "outputs": [
    {
     "data": {
      "text/plain": [
       "{'data': [{'Nombre': 'Adrian',\n",
       "   'Apellido': 'Gonzalez',\n",
       "   'Profesion': 'Economista'},\n",
       "  {'Nombre': 'Carolina', 'Apellido': 'Fernandez', 'Profesion': 'Optica'},\n",
       "  {'Nombre': 'David', 'Apellido': 'Gonzalez', 'Profesion': 'Futbolista'}]}"
      ]
     },
     "execution_count": 48,
     "metadata": {},
     "output_type": "execute_result"
    }
   ],
   "source": [
    "archivo_json = open('json_p.json', encoding=\"utf8\")\n",
    "\n",
    "df = json.load(archivo_json)\n",
    "\n",
    "df"
   ]
  },
  {
   "cell_type": "markdown",
   "metadata": {},
   "source": [
    "Para leerlo de de otra forma: "
   ]
  },
  {
   "cell_type": "code",
   "execution_count": 50,
   "metadata": {},
   "outputs": [],
   "source": [
    "with open('json_p.json') as file:\n",
    "    df = json.load(file)"
   ]
  },
  {
   "cell_type": "markdown",
   "metadata": {},
   "source": [
    "Tambien podemos crear un archivo JSON directamente:"
   ]
  },
  {
   "cell_type": "code",
   "execution_count": 51,
   "metadata": {},
   "outputs": [],
   "source": [
    "df_json = {}\n",
    "\n",
    "df_json['Empleado'] = []\n",
    "\n",
    "df_json['Empleado'].append({\n",
    "    'Nombre': 'Adrian',\n",
    "    'Apellidos': 'Gonzalez',\n",
    "    'Profesion': 'Economista'})\n",
    "\n",
    "df_json['Empleado'].append({\n",
    "    'Nombre': 'carolina',\n",
    "    'Apellidos': 'Fernandez',\n",
    "    'Profesion': 'Optica'})\n",
    "\n",
    "df_json['Empleado'].append({\n",
    "    'Nombre': 'David',\n",
    "    'Apellidos': 'Gonzalez',\n",
    "    'Profesion': 'Futbolista'})\n",
    "\n",
    "with open('df_json', 'w', encoding = 'utf8') as file:\n",
    "    json.dump(df_json, file, indent=4)"
   ]
  },
  {
   "cell_type": "code",
   "execution_count": 52,
   "metadata": {},
   "outputs": [
    {
     "data": {
      "text/plain": [
       "{'Empleado': [{'Nombre': 'Adrian',\n",
       "   'Apellidos': 'Gonzalez',\n",
       "   'Profesion': 'Economista'},\n",
       "  {'Nombre': 'carolina', 'Apellidos': 'Fernandez', 'Profesion': 'Optica'},\n",
       "  {'Nombre': 'David', 'Apellidos': 'Gonzalez', 'Profesion': 'Futbolista'}]}"
      ]
     },
     "execution_count": 52,
     "metadata": {},
     "output_type": "execute_result"
    }
   ],
   "source": [
    "df_json"
   ]
  },
  {
   "cell_type": "markdown",
   "metadata": {},
   "source": [
    "### Ficheros yaml"
   ]
  },
  {
   "cell_type": "markdown",
   "metadata": {},
   "source": [
    "YAML fue creado bajo la creencia de que todos los datos pueden ser representados adecuadamente como combinaciones de listas, hashes (mapeos) y datos escalares (valores simples). La sintaxis es relativamente sencilla y fue diseñada teniendo en cuenta que fuera muy legible pero que a la vez fuese fácilmente mapeable a los tipos de datos más comunes en la mayoría de los lenguajes de alto nivel. Además, YAML utiliza una notación basada en la sangría y/o un conjunto de caracteres Sigil distintos de los que se usan en XML, haciendo que sea fácil componer ambos lenguajes.\n"
   ]
  },
  {
   "cell_type": "code",
   "execution_count": 30,
   "metadata": {},
   "outputs": [],
   "source": [
    "import yaml"
   ]
  },
  {
   "cell_type": "code",
   "execution_count": 53,
   "metadata": {},
   "outputs": [
    {
     "name": "stderr",
     "output_type": "stream",
     "text": [
      "<ipython-input-53-d0d13d12897c>:3: YAMLLoadWarning: calling yaml.load() without Loader=... is deprecated, as the default Loader is unsafe. Please read https://msg.pyyaml.org/load for full details.\n",
      "  df2 = yaml.load(archivo_yaml)\n"
     ]
    }
   ],
   "source": [
    "archivo_yaml = open('yaml_p.yaml', encoding=\"utf8\")\n",
    "\n",
    "df2 = yaml.load(archivo_yaml)"
   ]
  },
  {
   "cell_type": "code",
   "execution_count": 54,
   "metadata": {},
   "outputs": [
    {
     "data": {
      "text/plain": [
       "[{'nombre': 'Adrian', 'appelido': 'Gonzalez', 'ocupacion': 'Economista'},\n",
       " {'nombre': 'Carolina', 'apellido': 'Fernandez', 'ocupacion': 'Optica'},\n",
       " {'nombre': 'David', 'apellido': 'Gonzalez', 'ocupacion': 'Futbolista'}]"
      ]
     },
     "execution_count": 54,
     "metadata": {},
     "output_type": "execute_result"
    }
   ],
   "source": [
    "df2"
   ]
  },
  {
   "cell_type": "markdown",
   "metadata": {},
   "source": [
    "Se puede leer con una función "
   ]
  },
  {
   "cell_type": "code",
   "execution_count": 55,
   "metadata": {},
   "outputs": [],
   "source": [
    "def read_yaml_file(yaml_p):\n",
    "    with open(yaml_p, 'r', encoding = \"utf8\") as stream:\n",
    "        try:\n",
    "            print(yaml.safe_load(stream))\n",
    "        except yaml.YAMLError as exc:\n",
    "            print(exc)"
   ]
  },
  {
   "cell_type": "code",
   "execution_count": 56,
   "metadata": {},
   "outputs": [
    {
     "name": "stdout",
     "output_type": "stream",
     "text": [
      "[{'nombre': 'Adrian', 'appelido': 'Gonzalez', 'ocupacion': 'Economista'}, {'nombre': 'Carolina', 'apellido': 'Fernandez', 'ocupacion': 'Optica'}, {'nombre': 'David', 'apellido': 'Gonzalez', 'ocupacion': 'Futbolista'}]\n"
     ]
    }
   ],
   "source": [
    "read_yaml_file(\"yaml_p.yaml\")"
   ]
  },
  {
   "cell_type": "markdown",
   "metadata": {},
   "source": [
    "Para generar un archivo yaml directamente desde el notebook: "
   ]
  },
  {
   "cell_type": "code",
   "execution_count": 58,
   "metadata": {},
   "outputs": [],
   "source": [
    "yaml_p = [{'Nombre': 'Adrian', 'Apellidos': 'Gonzalez', 'Profesion': 'Economista'},\n",
    "               {'Nombre': 'Carolina', 'Apellidos': 'Fernandez', 'Profesion': 'Optica'},\n",
    "               {'Nombre': 'David', 'Apellidos': 'Gonzalez', 'Profesion': 'Futbolista'}]"
   ]
  },
  {
   "cell_type": "code",
   "execution_count": 59,
   "metadata": {},
   "outputs": [],
   "source": [
    "with open('yaml_p.yaml', 'w', encoding = 'utf8') as file:\n",
    "    \n",
    "    data = yaml.dump(prueba_yaml, file)"
   ]
  }
 ],
 "metadata": {
  "kernelspec": {
   "display_name": "Python 3",
   "language": "python",
   "name": "python3"
  },
  "language_info": {
   "codemirror_mode": {
    "name": "ipython",
    "version": 3
   },
   "file_extension": ".py",
   "mimetype": "text/x-python",
   "name": "python",
   "nbconvert_exporter": "python",
   "pygments_lexer": "ipython3",
   "version": "3.8.3"
  }
 },
 "nbformat": 4,
 "nbformat_minor": 2
}
